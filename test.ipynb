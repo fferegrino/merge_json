{
 "cells": [
  {
   "cell_type": "code",
   "execution_count": 1,
   "metadata": {},
   "outputs": [],
   "source": [
    "from merge_json.splitter import split\n",
    "from merge_json.merger import merge"
   ]
  },
  {
   "cell_type": "markdown",
   "metadata": {},
   "source": [
    "## Merge: `test/object_*.json` ➡️ `test/_list.json`"
   ]
  },
  {
   "cell_type": "code",
   "execution_count": 2,
   "metadata": {},
   "outputs": [
    {
     "data": {
      "text/plain": [
       "20"
      ]
     },
     "execution_count": 2,
     "metadata": {},
     "output_type": "execute_result"
    }
   ],
   "source": [
    "merge(\"test/object_*.json\", \"test/_list.json\", transform_function=None, indent=4)"
   ]
  },
  {
   "cell_type": "markdown",
   "metadata": {},
   "source": [
    "## Split: `test/list.json` ➡️ `test/object_%d.json`"
   ]
  },
  {
   "cell_type": "code",
   "execution_count": 3,
   "metadata": {},
   "outputs": [
    {
     "name": "stdout",
     "output_type": "stream",
     "text": [
      "20\n"
     ]
    }
   ],
   "source": [
    "results = split(\n",
    "    input_file=\"test/list.json\",\n",
    "    output_file_pattern=\"test/%s.json\", \n",
    "    name_function=lambda i, obj: \"object_%d\" % (i),\n",
    "    #transform_function=lambda obj: {'name': obj[\"first_name\"], 'last': obj[\"last_name\"]},\n",
    "    indent=2)\n",
    "print(results)"
   ]
  },
  {
   "cell_type": "markdown",
   "metadata": {},
   "source": [
    "## Split: `test/list.json` ➡️ `test/_%s_item_%d.json`"
   ]
  },
  {
   "cell_type": "code",
   "execution_count": 4,
   "metadata": {},
   "outputs": [
    {
     "name": "stdout",
     "output_type": "stream",
     "text": [
      "20\n"
     ]
    }
   ],
   "source": [
    "# _lastname_item_0.json\n",
    "results = split(\n",
    "    input_file=\"test/list.json\",\n",
    "    output_file_pattern=\"test/%s.json\", \n",
    "    name_function=lambda i, obj: \"_%s_item_%d\" % (obj[\"first_name\"].lower(), i),\n",
    "    transform_function=lambda obj: {'name': obj[\"first_name\"], 'last': obj[\"last_name\"]},\n",
    "    indent=2)\n",
    "print(results)"
   ]
  },
  {
   "cell_type": "code",
   "execution_count": null,
   "metadata": {},
   "outputs": [],
   "source": []
  }
 ],
 "metadata": {
  "kernelspec": {
   "display_name": "Python 3",
   "language": "python",
   "name": "python3"
  },
  "language_info": {
   "codemirror_mode": {
    "name": "ipython",
    "version": 3
   },
   "file_extension": ".py",
   "mimetype": "text/x-python",
   "name": "python",
   "nbconvert_exporter": "python",
   "pygments_lexer": "ipython3",
   "version": "3.6.1"
  }
 },
 "nbformat": 4,
 "nbformat_minor": 2
}
