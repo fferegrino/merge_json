{
 "cells": [
  {
   "cell_type": "markdown",
   "metadata": {},
   "source": [
    "# `merge` parameters:\n",
    "\n",
    " - `input_file_pattern`. Required. The *glob* file name pattern of the files that are to be merged into a single file.\n",
    " - `output_file`. Required. The name of the merged file.\n",
    " - `transform_function`. Optional. If each object is to be transformed into a new one, a function must be specified; the function will take a `dict` and must return a tuple (bool, dict) specifying in the first entry whether the object should be added and in the second entry the new value to be appended.\n",
    " - `indent`. Optional. Specify an output indentation for the new file."
   ]
  },
  {
   "cell_type": "code",
   "execution_count": 1,
   "metadata": {},
   "outputs": [],
   "source": [
    "from merge_json.merger import merge"
   ]
  },
  {
   "cell_type": "markdown",
   "metadata": {},
   "source": [
    "## Merge: `test/object_*.json` ➡️ `test/_list.json`  \n",
    "\n",
    "The following call will take all the json files whose name starts with \"object_\" in the \"test\" folder (specified by the first parameter) and combine them into a single file called \"\\_list.json\" in the same folder (specified by the second parameter) with an indentation of 4 spaces. No transform function specified."
   ]
  },
  {
   "cell_type": "code",
   "execution_count": 2,
   "metadata": {},
   "outputs": [
    {
     "data": {
      "text/plain": [
       "20"
      ]
     },
     "execution_count": 2,
     "metadata": {},
     "output_type": "execute_result"
    }
   ],
   "source": [
    "merge(\"test/object_*.json\", \"test/_list.json\", transform_function=None, indent=4)"
   ]
  },
  {
   "cell_type": "markdown",
   "metadata": {},
   "source": [
    "## Merge: `test/object_*.json` ➡️ `test/_A_list.json`  \n",
    "\n",
    "The following call will take all the json files whose name starts with \"object_\" in the \"test\" folder (specified by the first parameter) and combine them into a single file called \"\\_A_list.json\" in the same folder (specified by the second parameter) with an indentation of 4 spaces. In this case, as specified by the `transform_function`, only the elements with \"A\" in the \"first_name\" property will be added to the new list."
   ]
  },
  {
   "cell_type": "code",
   "execution_count": 3,
   "metadata": {},
   "outputs": [
    {
     "data": {
      "text/plain": [
       "4"
      ]
     },
     "execution_count": 3,
     "metadata": {},
     "output_type": "execute_result"
    }
   ],
   "source": [
    "def transform_and_add(obj):\n",
    "    if \"A\" in obj[\"first_name\"]:\n",
    "        return (True, obj)\n",
    "    return (False, None)\n",
    "\n",
    "merge(\"test/object_*.json\", \"test/_A_list.json\", transform_function=transform_and_add, indent=4)"
   ]
  },
  {
   "cell_type": "markdown",
   "metadata": {},
   "source": [
    "# `split` parameters:\n",
    "\n",
    "TODO"
   ]
  },
  {
   "cell_type": "code",
   "execution_count": 4,
   "metadata": {},
   "outputs": [],
   "source": [
    "from merge_json.splitter import split"
   ]
  },
  {
   "cell_type": "markdown",
   "metadata": {},
   "source": [
    "## Split: `test/list.json` ➡️ `test/object_%d.json`  \n",
    "\n",
    "The following call will take the input file \"test/list.json\" and create a new json file for each item in the list with name \"object_X.json\" (where X is a consecutive number) in the folder \"test\", with an indentation of 2 spaces."
   ]
  },
  {
   "cell_type": "code",
   "execution_count": 5,
   "metadata": {},
   "outputs": [
    {
     "name": "stdout",
     "output_type": "stream",
     "text": [
      "20\n"
     ]
    }
   ],
   "source": [
    "results = split(\n",
    "    input_file=\"test/list.json\",\n",
    "    output_file_pattern=\"test/%s.json\", \n",
    "    name_function=lambda i, obj: \"object_%d\" % (i),\n",
    "    indent=2)\n",
    "print(results)"
   ]
  },
  {
   "cell_type": "markdown",
   "metadata": {},
   "source": [
    "## Split: `test/list.json` ➡️ `test/_%s_item_%d.json`\n",
    "\n",
    "The following call will take the input file \"test/list.json\" and create a new json file with name \"\\_Y_item_X.json\" (where X is a consecutive number and Y is the property \"first_name\" of each object)  in the folder \"test\", with an indentation of 2 spaces. It will also transform each object into a new one containing only the properties \"first_name\" and \"last_name\"."
   ]
  },
  {
   "cell_type": "code",
   "execution_count": 6,
   "metadata": {},
   "outputs": [
    {
     "name": "stdout",
     "output_type": "stream",
     "text": [
      "20\n"
     ]
    }
   ],
   "source": [
    "# _lastname_item_0.json\n",
    "results = split(\n",
    "    input_file=\"test/list.json\",\n",
    "    output_file_pattern=\"test/%s.json\", \n",
    "    name_function=lambda i, obj: \"_%s_item_%d\" % (obj[\"first_name\"].lower(), i),\n",
    "    transform_function=lambda obj: {'name': obj[\"first_name\"], 'last': obj[\"last_name\"]},\n",
    "    indent=2)\n",
    "print(results)"
   ]
  },
  {
   "cell_type": "code",
   "execution_count": null,
   "metadata": {},
   "outputs": [],
   "source": []
  }
 ],
 "metadata": {
  "kernelspec": {
   "display_name": "Python 3",
   "language": "python",
   "name": "python3"
  },
  "language_info": {
   "codemirror_mode": {
    "name": "ipython",
    "version": 3
   },
   "file_extension": ".py",
   "mimetype": "text/x-python",
   "name": "python",
   "nbconvert_exporter": "python",
   "pygments_lexer": "ipython3",
   "version": "3.6.1"
  }
 },
 "nbformat": 4,
 "nbformat_minor": 2
}
